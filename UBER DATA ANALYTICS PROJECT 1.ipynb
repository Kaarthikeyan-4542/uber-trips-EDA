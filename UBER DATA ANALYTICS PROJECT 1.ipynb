{
 "cells": [
  {
   "cell_type": "markdown",
   "id": "46ac31cd",
   "metadata": {},
   "source": [
    "# UBER EXPLORATORY DATA ANALYSIS"
   ]
  },
  {
   "cell_type": "markdown",
   "id": "47da4b02",
   "metadata": {},
   "source": [
    "Importing Libraries"
   ]
  },
  {
   "cell_type": "code",
   "execution_count": 72,
   "id": "ba7cfaf5",
   "metadata": {},
   "outputs": [
    {
     "name": "stdout",
     "output_type": "stream",
     "text": [
      "Completed setting up environment\n"
     ]
    }
   ],
   "source": [
    "import pandas as pd\n",
    "import matplotlib.pyplot as plt\n",
    "import seaborn as sns\n",
    "import numpy as np\n",
    "print(\"Completed setting up environment\")\n"
   ]
  },
  {
   "cell_type": "markdown",
   "id": "9dfb9e07",
   "metadata": {},
   "source": [
    "Preview of dataset"
   ]
  },
  {
   "cell_type": "code",
   "execution_count": 73,
   "id": "d2b2ac21",
   "metadata": {},
   "outputs": [
    {
     "name": "stdout",
     "output_type": "stream",
     "text": [
      "<class 'pandas.core.frame.DataFrame'>\n",
      "RangeIndex: 150000 entries, 0 to 149999\n",
      "Data columns (total 21 columns):\n",
      " #   Column                             Non-Null Count   Dtype  \n",
      "---  ------                             --------------   -----  \n",
      " 0   Date                               150000 non-null  object \n",
      " 1   Time                               150000 non-null  object \n",
      " 2   Booking ID                         150000 non-null  object \n",
      " 3   Booking Status                     150000 non-null  object \n",
      " 4   Customer ID                        150000 non-null  object \n",
      " 5   Vehicle Type                       150000 non-null  object \n",
      " 6   Pickup Location                    150000 non-null  object \n",
      " 7   Drop Location                      150000 non-null  object \n",
      " 8   Avg VTAT                           139500 non-null  float64\n",
      " 9   Avg CTAT                           102000 non-null  float64\n",
      " 10  Cancelled Rides by Customer        10500 non-null   float64\n",
      " 11  Reason for cancelling by Customer  10500 non-null   object \n",
      " 12  Cancelled Rides by Driver          27000 non-null   float64\n",
      " 13  Driver Cancellation Reason         27000 non-null   object \n",
      " 14  Incomplete Rides                   9000 non-null    float64\n",
      " 15  Incomplete Rides Reason            9000 non-null    object \n",
      " 16  Booking Value                      102000 non-null  float64\n",
      " 17  Ride Distance                      102000 non-null  float64\n",
      " 18  Driver Ratings                     93000 non-null   float64\n",
      " 19  Customer Rating                    93000 non-null   float64\n",
      " 20  Payment Method                     102000 non-null  object \n",
      "dtypes: float64(9), object(12)\n",
      "memory usage: 24.0+ MB\n"
     ]
    },
    {
     "data": {
      "text/plain": [
       "(150000, 21)"
      ]
     },
     "execution_count": 73,
     "metadata": {},
     "output_type": "execute_result"
    }
   ],
   "source": [
    "uber_df = pd.read_csv(r\"C:\\Users\\kaart\\Downloads\\archive (1)\\ncr_ride_bookings.csv\")\n",
    "uber_df.head()\n",
    "uber_df.info()\n",
    "uber_df.describe()          \n",
    "uber_df.shape "
   ]
  },
  {
   "cell_type": "markdown",
   "id": "ee1af199",
   "metadata": {},
   "source": [
    "handling missing values\n"
   ]
  },
  {
   "cell_type": "code",
   "execution_count": 74,
   "id": "45e9254b",
   "metadata": {},
   "outputs": [
    {
     "data": {
      "text/plain": [
       "Date                                      0\n",
       "Time                                      0\n",
       "Booking ID                                0\n",
       "Booking Status                            0\n",
       "Customer ID                               0\n",
       "Vehicle Type                              0\n",
       "Pickup Location                           0\n",
       "Drop Location                             0\n",
       "Avg VTAT                              10500\n",
       "Avg CTAT                              48000\n",
       "Cancelled Rides by Customer          139500\n",
       "Reason for cancelling by Customer    139500\n",
       "Cancelled Rides by Driver            123000\n",
       "Driver Cancellation Reason           123000\n",
       "Incomplete Rides                     141000\n",
       "Incomplete Rides Reason              141000\n",
       "Booking Value                         48000\n",
       "Ride Distance                         48000\n",
       "Driver Ratings                        57000\n",
       "Customer Rating                       57000\n",
       "Payment Method                        48000\n",
       "dtype: int64"
      ]
     },
     "execution_count": 74,
     "metadata": {},
     "output_type": "execute_result"
    }
   ],
   "source": [
    "uber_df.isna().sum()"
   ]
  },
  {
   "cell_type": "markdown",
   "id": "6a02945e",
   "metadata": {},
   "source": [
    "Filling up missing values"
   ]
  },
  {
   "cell_type": "code",
   "execution_count": 75,
   "id": "f7ea98d1",
   "metadata": {},
   "outputs": [],
   "source": [
    "uber_df[\"Avg VTAT\"]=uber_df[\"Avg VTAT\"].fillna(0)\n",
    "uber_df[\"Avg CTAT\"]=uber_df[\"Avg CTAT\"].fillna(0)\n",
    "uber_df[\"Cancelled Rides by Customer\"]=uber_df[\"Cancelled Rides by Customer\"].fillna(0)\n",
    "uber_df[\"Reason for cancelling by Customer\"]=uber_df[\"Reason for cancelling by Customer\"].fillna('unknown')\n",
    "uber_df[\"Cancelled Rides by Driver\"]=uber_df[\"Cancelled Rides by Driver\"].fillna(0)\n",
    "uber_df[\"Driver Cancellation Reason\"]=uber_df[\"Driver Cancellation Reason\"].fillna('unknown')\n",
    "uber_df[\"Incomplete Rides\"]=uber_df[\"Incomplete Rides\"].fillna(0)\n",
    "uber_df[\"Incomplete Rides Reason\"]=uber_df[\"Incomplete Rides Reason\"].fillna('unknown')\n",
    "uber_df[\"Booking Value\"]=uber_df[\"Booking Value\"].fillna(0)\n",
    "uber_df[\"Ride Distance\"]=uber_df[\"Ride Distance\"].fillna(0)\n",
    "uber_df[\"Driver Ratings\"]=uber_df[\"Driver Ratings\"].fillna(0)\n",
    "uber_df[\"Customer Rating\"]=uber_df[\"Customer Rating\"].fillna(0)\n",
    "uber_df[\"Payment Method\"]=uber_df[\"Payment Method\"].fillna('unknown')\n"
   ]
  },
  {
   "cell_type": "code",
   "execution_count": 76,
   "id": "9c2b1897",
   "metadata": {},
   "outputs": [
    {
     "data": {
      "text/plain": [
       "Date                                 0\n",
       "Time                                 0\n",
       "Booking ID                           0\n",
       "Booking Status                       0\n",
       "Customer ID                          0\n",
       "Vehicle Type                         0\n",
       "Pickup Location                      0\n",
       "Drop Location                        0\n",
       "Avg VTAT                             0\n",
       "Avg CTAT                             0\n",
       "Cancelled Rides by Customer          0\n",
       "Reason for cancelling by Customer    0\n",
       "Cancelled Rides by Driver            0\n",
       "Driver Cancellation Reason           0\n",
       "Incomplete Rides                     0\n",
       "Incomplete Rides Reason              0\n",
       "Booking Value                        0\n",
       "Ride Distance                        0\n",
       "Driver Ratings                       0\n",
       "Customer Rating                      0\n",
       "Payment Method                       0\n",
       "dtype: int64"
      ]
     },
     "execution_count": 76,
     "metadata": {},
     "output_type": "execute_result"
    }
   ],
   "source": [
    "uber_df.isna().sum()"
   ]
  },
  {
   "cell_type": "markdown",
   "id": "a8115eb4",
   "metadata": {},
   "source": [
    "Changing datatypes of dataset"
   ]
  },
  {
   "cell_type": "code",
   "execution_count": 77,
   "id": "5170542e",
   "metadata": {},
   "outputs": [],
   "source": [
    "uber_df[\"Cancelled Rides by Customer\"]=uber_df[\"Cancelled Rides by Customer\"].astype('Int64')\n",
    "uber_df[\"Reason for cancelling by Customer\"]=uber_df[\"Reason for cancelling by Customer\"].astype('string')\n",
    "uber_df[\"Cancelled Rides by Driver\"]=uber_df[\"Cancelled Rides by Driver\"].astype('Int64')\n",
    "uber_df[\"Driver Cancellation Reason\"]=uber_df[\"Driver Cancellation Reason\"].astype('string')\n",
    "uber_df[\"Incomplete Rides\"] = uber_df[\"Incomplete Rides\"].astype('Int64')\n",
    "uber_df[\"Incomplete Rides Reason\"]=uber_df[\"Incomplete Rides Reason\"].astype('string')\n",
    "uber_df[\"Booking Value\"]=uber_df[\"Booking Value\"].astype('Int64')\n",
    "uber_df[\"Payment Method\"]=uber_df[\"Payment Method\"].astype('string')\n",
    "uber_df['Date'] = pd.to_datetime(uber_df['Date'],errors='coerce')\n",
    "uber_df['Booking ID'] = uber_df['Booking ID'].astype('string')\n",
    "uber_df['Booking Status'] = uber_df['Booking Status'].astype('string')\n",
    "uber_df['Customer ID'] = uber_df['Customer ID'].astype('string')\n",
    "uber_df['Vehicle Type'] = uber_df['Vehicle Type'].astype('string')\n",
    "uber_df['Pickup Location'] = uber_df['Pickup Location'].astype('string')\n",
    "uber_df['Drop Location'] = uber_df['Drop Location'].astype('string')\n"
   ]
  },
  {
   "cell_type": "code",
   "execution_count": 78,
   "id": "606c991f",
   "metadata": {},
   "outputs": [
    {
     "name": "stdout",
     "output_type": "stream",
     "text": [
      "<class 'pandas.core.frame.DataFrame'>\n",
      "RangeIndex: 150000 entries, 0 to 149999\n",
      "Data columns (total 21 columns):\n",
      " #   Column                             Non-Null Count   Dtype         \n",
      "---  ------                             --------------   -----         \n",
      " 0   Date                               150000 non-null  datetime64[ns]\n",
      " 1   Time                               150000 non-null  object        \n",
      " 2   Booking ID                         150000 non-null  string        \n",
      " 3   Booking Status                     150000 non-null  string        \n",
      " 4   Customer ID                        150000 non-null  string        \n",
      " 5   Vehicle Type                       150000 non-null  string        \n",
      " 6   Pickup Location                    150000 non-null  string        \n",
      " 7   Drop Location                      150000 non-null  string        \n",
      " 8   Avg VTAT                           150000 non-null  float64       \n",
      " 9   Avg CTAT                           150000 non-null  float64       \n",
      " 10  Cancelled Rides by Customer        150000 non-null  Int64         \n",
      " 11  Reason for cancelling by Customer  150000 non-null  string        \n",
      " 12  Cancelled Rides by Driver          150000 non-null  Int64         \n",
      " 13  Driver Cancellation Reason         150000 non-null  string        \n",
      " 14  Incomplete Rides                   150000 non-null  Int64         \n",
      " 15  Incomplete Rides Reason            150000 non-null  string        \n",
      " 16  Booking Value                      150000 non-null  Int64         \n",
      " 17  Ride Distance                      150000 non-null  float64       \n",
      " 18  Driver Ratings                     150000 non-null  float64       \n",
      " 19  Customer Rating                    150000 non-null  float64       \n",
      " 20  Payment Method                     150000 non-null  string        \n",
      "dtypes: Int64(4), datetime64[ns](1), float64(5), object(1), string(10)\n",
      "memory usage: 24.6+ MB\n"
     ]
    }
   ],
   "source": [
    "uber_df.info()"
   ]
  },
  {
   "cell_type": "code",
   "execution_count": 79,
   "id": "0eee1678",
   "metadata": {},
   "outputs": [],
   "source": [
    "uber_df[\"Booking Status\"].unique()\n",
    "uber_df['Incomplete Rides'] = uber_df['Incomplete Rides'].astype('Int64')"
   ]
  },
  {
   "cell_type": "markdown",
   "id": "389a5e15",
   "metadata": {},
   "source": [
    "Calculating total number of rides completed\n"
   ]
  },
  {
   "cell_type": "code",
   "execution_count": 94,
   "id": "fd3dfe3e",
   "metadata": {},
   "outputs": [
    {
     "name": "stdout",
     "output_type": "stream",
     "text": [
      "Number of rides : 150000\n",
      "Number of rides completed : 93000\n"
     ]
    }
   ],
   "source": [
    "total_rides = len(uber_df) # total rides\n",
    "print(f\"Number of rides : {total_rides}\")\n",
    "no_driver_found_count=(uber_df[\"Booking Status\"]==\"No Driver Found\").sum() # total ride with no driver state\n",
    "rides_completed = total_rides - (\n",
    "    uber_df[\"Incomplete Rides\"].sum() + \n",
    "    uber_df[\"Cancelled Rides by Customer\"].sum() + \n",
    "    uber_df[\"Cancelled Rides by Driver\"].sum() + \n",
    "    no_driver_found_count)\n",
    "print(f\"Number of rides completed : {rides_completed}\")\n",
    "                             "
   ]
  },
  {
   "cell_type": "markdown",
   "id": "57a55d4b",
   "metadata": {},
   "source": [
    "Calculating percentual rides completed"
   ]
  },
  {
   "cell_type": "code",
   "execution_count": 92,
   "id": "0fb867ea",
   "metadata": {},
   "outputs": [
    {
     "name": "stdout",
     "output_type": "stream",
     "text": [
      "success_rate :  62.00%\n"
     ]
    }
   ],
   "source": [
    "success_rate_rides = (rides_completed / total_rides) * 100\n",
    "print(f\"success_rate : {success_rate_rides : .2f}%\")"
   ]
  },
  {
   "cell_type": "markdown",
   "id": "ea2dc12c",
   "metadata": {},
   "source": [
    "Calculating Average wait time"
   ]
  },
  {
   "cell_type": "code",
   "execution_count": 93,
   "id": "2c2d69e0",
   "metadata": {},
   "outputs": [
    {
     "name": "stdout",
     "output_type": "stream",
     "text": [
      "Average wait time :  7.86 minutes \n"
     ]
    }
   ],
   "source": [
    "avg_wait_time = np.mean(uber_df['Avg VTAT'])\n",
    "print(f\"Average wait time : {avg_wait_time : .2f} minutes \")\n"
   ]
  },
  {
   "cell_type": "code",
   "execution_count": 83,
   "id": "0e309f30",
   "metadata": {},
   "outputs": [
    {
     "name": "stdout",
     "output_type": "stream",
     "text": [
      "<class 'pandas.core.frame.DataFrame'>\n",
      "RangeIndex: 150000 entries, 0 to 149999\n",
      "Data columns (total 21 columns):\n",
      " #   Column                             Non-Null Count   Dtype         \n",
      "---  ------                             --------------   -----         \n",
      " 0   Date                               150000 non-null  datetime64[ns]\n",
      " 1   Time                               150000 non-null  object        \n",
      " 2   Booking ID                         150000 non-null  string        \n",
      " 3   Booking Status                     150000 non-null  string        \n",
      " 4   Customer ID                        150000 non-null  string        \n",
      " 5   Vehicle Type                       150000 non-null  string        \n",
      " 6   Pickup Location                    150000 non-null  string        \n",
      " 7   Drop Location                      150000 non-null  string        \n",
      " 8   Avg VTAT                           150000 non-null  float64       \n",
      " 9   Avg CTAT                           150000 non-null  float64       \n",
      " 10  Cancelled Rides by Customer        150000 non-null  Int64         \n",
      " 11  Reason for cancelling by Customer  150000 non-null  string        \n",
      " 12  Cancelled Rides by Driver          150000 non-null  Int64         \n",
      " 13  Driver Cancellation Reason         150000 non-null  string        \n",
      " 14  Incomplete Rides                   150000 non-null  Int64         \n",
      " 15  Incomplete Rides Reason            150000 non-null  string        \n",
      " 16  Booking Value                      150000 non-null  Int64         \n",
      " 17  Ride Distance                      150000 non-null  float64       \n",
      " 18  Driver Ratings                     150000 non-null  float64       \n",
      " 19  Customer Rating                    150000 non-null  float64       \n",
      " 20  Payment Method                     150000 non-null  string        \n",
      "dtypes: Int64(4), datetime64[ns](1), float64(5), object(1), string(10)\n",
      "memory usage: 24.6+ MB\n"
     ]
    }
   ],
   "source": [
    "uber_df.info()"
   ]
  },
  {
   "cell_type": "markdown",
   "id": "1e93c089",
   "metadata": {},
   "source": [
    "Average trip duration"
   ]
  },
  {
   "cell_type": "code",
   "execution_count": 84,
   "id": "458cc5a1",
   "metadata": {},
   "outputs": [
    {
     "name": "stdout",
     "output_type": "stream",
     "text": [
      "Average trip duration :  30.03 minutes\n"
     ]
    }
   ],
   "source": [
    "completed_rides = uber_df[uber_df['Booking Status']=='Completed']\n",
    "total_trip_duration = completed_rides['Avg CTAT'].sum()\n",
    "avg_trip_duration = total_trip_duration/completed_rides.shape[0]\n",
    "print(f\"Average trip duration : {avg_trip_duration : .2f} minutes\")"
   ]
  },
  {
   "cell_type": "markdown",
   "id": "1bc65567",
   "metadata": {},
   "source": [
    "Average ride distance"
   ]
  },
  {
   "cell_type": "markdown",
   "id": "d4647739",
   "metadata": {},
   "source": []
  },
  {
   "cell_type": "code",
   "execution_count": null,
   "id": "510ef506",
   "metadata": {},
   "outputs": [
    {
     "name": "stdout",
     "output_type": "stream",
     "text": [
      "Average ride distance :  26.00KM\n"
     ]
    }
   ],
   "source": [
    "# Select only the completed rides and then compute the mean of the 'Ride Distance' column directly.\n",
    "avg_ride_distance = uber_df[uber_df['Booking Status']=='Completed']['Ride Distance'].mean()\n",
    "\n",
    "print(f\"Average ride distance : {avg_ride_distance : .2f}KM\")\n"
   ]
  },
  {
   "cell_type": "code",
   "execution_count": 87,
   "id": "3ca71f4f",
   "metadata": {},
   "outputs": [
    {
     "name": "stdout",
     "output_type": "stream",
     "text": [
      "<class 'pandas.core.frame.DataFrame'>\n",
      "RangeIndex: 150000 entries, 0 to 149999\n",
      "Data columns (total 21 columns):\n",
      " #   Column                             Non-Null Count   Dtype         \n",
      "---  ------                             --------------   -----         \n",
      " 0   Date                               150000 non-null  datetime64[ns]\n",
      " 1   Time                               150000 non-null  object        \n",
      " 2   Booking ID                         150000 non-null  string        \n",
      " 3   Booking Status                     150000 non-null  string        \n",
      " 4   Customer ID                        150000 non-null  string        \n",
      " 5   Vehicle Type                       150000 non-null  string        \n",
      " 6   Pickup Location                    150000 non-null  string        \n",
      " 7   Drop Location                      150000 non-null  string        \n",
      " 8   Avg VTAT                           150000 non-null  float64       \n",
      " 9   Avg CTAT                           150000 non-null  float64       \n",
      " 10  Cancelled Rides by Customer        150000 non-null  Int64         \n",
      " 11  Reason for cancelling by Customer  150000 non-null  string        \n",
      " 12  Cancelled Rides by Driver          150000 non-null  Int64         \n",
      " 13  Driver Cancellation Reason         150000 non-null  string        \n",
      " 14  Incomplete Rides                   150000 non-null  Int64         \n",
      " 15  Incomplete Rides Reason            150000 non-null  string        \n",
      " 16  Booking Value                      150000 non-null  Int64         \n",
      " 17  Ride Distance                      150000 non-null  float64       \n",
      " 18  Driver Ratings                     150000 non-null  float64       \n",
      " 19  Customer Rating                    150000 non-null  float64       \n",
      " 20  Payment Method                     150000 non-null  string        \n",
      "dtypes: Int64(4), datetime64[ns](1), float64(5), object(1), string(10)\n",
      "memory usage: 24.6+ MB\n"
     ]
    }
   ],
   "source": [
    "uber_df['Booking Status'].unique()\n",
    "uber_df.info()"
   ]
  },
  {
   "cell_type": "markdown",
   "id": "e07b2080",
   "metadata": {},
   "source": [
    "Average Cancellation Rate"
   ]
  },
  {
   "cell_type": "code",
   "execution_count": 88,
   "id": "dc80db20",
   "metadata": {},
   "outputs": [
    {
     "name": "stdout",
     "output_type": "stream",
     "text": [
      "Cancelled rides : 37500 rides\n",
      "cancellation percentage : 25.00%\n",
      "Cancellation rate by drivers : 18.00%\n",
      "Cancellation percentage of customers : 7.00%\n"
     ]
    }
   ],
   "source": [
    "cancellation_rate = (uber_df['Cancelled Rides by Driver'].sum()) + (uber_df['Cancelled Rides by Customer'].sum())\n",
    "print(f\"Cancelled rides : {cancellation_rate} rides\")\n",
    "cancellation_percentage = (cancellation_rate/total_rides*100)\n",
    "print(f\"cancellation percentage : {cancellation_percentage:.2f}%\")\n",
    "\n",
    "#percentage of cancellation by drivers \n",
    "print(f\"Cancellation rate by drivers : { (uber_df['Cancelled Rides by Driver'].sum()/total_rides*100):.2f}%\")\n",
    "#percent of cancellation rate by customers \n",
    "print(f\"Cancellation percentage of customers : {(uber_df['Cancelled Rides by Customer'].sum()/total_rides*100):.2f}%\")\n"
   ]
  },
  {
   "cell_type": "markdown",
   "id": "5c8e05cc",
   "metadata": {},
   "source": [
    "user retention percentage"
   ]
  },
  {
   "cell_type": "code",
   "execution_count": 64,
   "id": "bfc71ba9",
   "metadata": {},
   "outputs": [
    {
     "name": "stdout",
     "output_type": "stream",
     "text": [
      "Retenation percentage:0.81%\n"
     ]
    }
   ],
   "source": [
    "rides_per_user = uber_df.groupby('Customer ID')['Date'].count()\n",
    "total_users = rides_per_user.count()\n",
    "retained_users = (rides_per_user>1).sum()\n",
    "retention_percentage = (retained_users/total_users)*100\n",
    "print(f\"Retenation percentage:{retention_percentage:.2f}%\")\n"
   ]
  },
  {
   "cell_type": "markdown",
   "id": "85f94447",
   "metadata": {},
   "source": [
    "Monthly active users"
   ]
  },
  {
   "cell_type": "code",
   "execution_count": 65,
   "id": "8e22b56f",
   "metadata": {},
   "outputs": [
    {
     "name": "stdout",
     "output_type": "stream",
     "text": [
      "Monthly active users - 2024 Month\n",
      "2024-01    12858\n",
      "2024-02    11915\n",
      "2024-03    12708\n",
      "2024-04    12192\n",
      "2024-05    12764\n",
      "2024-06    12433\n",
      "2024-07    12889\n",
      "2024-08    12628\n",
      "2024-09    12239\n",
      "2024-10    12643\n",
      "2024-11    12389\n",
      "2024-12    12241\n",
      "Freq: M, Name: Customer ID, dtype: int64\n"
     ]
    }
   ],
   "source": [
    "uber_df['Month'] = uber_df['Date'].dt.to_period('M')\n",
    "MAU = uber_df.groupby('Month')['Customer ID'].nunique()\n",
    "print(f\"Monthly active users - 2024 {MAU}\")"
   ]
  },
  {
   "cell_type": "markdown",
   "id": "7fb54c80",
   "metadata": {},
   "source": [
    "Month usage frequency"
   ]
  },
  {
   "cell_type": "code",
   "execution_count": 66,
   "id": "1607e4e4",
   "metadata": {},
   "outputs": [
    {
     "name": "stdout",
     "output_type": "stream",
     "text": [
      "Usage frequency per month :\n",
      "       Month  ride_count\n",
      "0   2024-01       12861\n",
      "1   2024-02       11927\n",
      "2   2024-03       12719\n",
      "3   2024-04       12199\n",
      "4   2024-05       12778\n",
      "5   2024-06       12440\n",
      "6   2024-07       12897\n",
      "7   2024-08       12636\n",
      "8   2024-09       12248\n",
      "9   2024-10       12651\n",
      "10  2024-11       12394\n",
      "11  2024-12       12250\n"
     ]
    }
   ],
   "source": [
    "monthly_usage = uber_df.groupby('Month')['Booking ID'].count().reset_index(name='ride_count')\n",
    "print(f\"Usage frequency per month :\\n {monthly_usage}\")"
   ]
  },
  {
   "cell_type": "markdown",
   "id": "5ec701a0",
   "metadata": {},
   "source": [
    "Average Revenue per ride\n"
   ]
  },
  {
   "cell_type": "code",
   "execution_count": 90,
   "id": "d57e7327",
   "metadata": {},
   "outputs": [
    {
     "name": "stdout",
     "output_type": "stream",
     "text": [
      "total_revenue : $51846183\n",
      "total_revenue_per_ride : $345.64\n"
     ]
    }
   ],
   "source": [
    "ride_revenue = uber_df['Booking Value'].sum()/ total_rides\n",
    "print(f\"total_revenue : ${uber_df['Booking Value'].sum()}\")\n",
    "print(f\"total_revenue_per_ride : ${ride_revenue:.2f}\")\n"
   ]
  },
  {
   "cell_type": "markdown",
   "id": "ea313f9b",
   "metadata": {},
   "source": [
    "Average Revenue per user"
   ]
  },
  {
   "cell_type": "code",
   "execution_count": 68,
   "id": "d3cf9ccd",
   "metadata": {},
   "outputs": [
    {
     "name": "stdout",
     "output_type": "stream",
     "text": [
      "Revenue per ride : $348.46\n"
     ]
    }
   ],
   "source": [
    "ride_revenue_user = uber_df['Booking Value'].sum()/uber_df['Customer ID'].nunique()\n",
    "print(f\"Revenue per ride : ${ride_revenue_user:.2f}\")"
   ]
  },
  {
   "cell_type": "markdown",
   "id": "914a83c7",
   "metadata": {},
   "source": [
    "Customer Ratings "
   ]
  },
  {
   "cell_type": "code",
   "execution_count": 69,
   "id": "671fd9b8",
   "metadata": {},
   "outputs": [
    {
     "name": "stdout",
     "output_type": "stream",
     "text": [
      "customers ratings : 2.73 / 5 stars\n"
     ]
    }
   ],
   "source": [
    "customer_ratings = uber_df['Customer Rating'].mean()\n",
    "print(f\"customers ratings : {customer_ratings:.2f} / 5 stars\")"
   ]
  },
  {
   "cell_type": "markdown",
   "id": "87d31434",
   "metadata": {},
   "source": [
    "Driver Ratings\n"
   ]
  },
  {
   "cell_type": "code",
   "execution_count": 70,
   "id": "60858c8f",
   "metadata": {},
   "outputs": [
    {
     "name": "stdout",
     "output_type": "stream",
     "text": [
      "Drivers Ratings : 2.62 / 5 stars\n"
     ]
    }
   ],
   "source": [
    "driver_ratings = uber_df['Driver Ratings'].mean()\n",
    "print(f\"Drivers Ratings : {driver_ratings:.2f} / 5 stars\")"
   ]
  },
  {
   "cell_type": "markdown",
   "id": "522e51d5",
   "metadata": {},
   "source": [
    "Summary of Analysis"
   ]
  },
  {
   "cell_type": "code",
   "execution_count": null,
   "id": "71170618",
   "metadata": {},
   "outputs": [],
   "source": [
    "# The dataset handled all the null values with fillna() for appropriate datatypes.\n",
    "# The datatype was changed according to their presence of value using astype().\n",
    "# Monthly frequent usage is in higher numbers.\n",
    "# Drivers's rating and customer's rating seems equally low.\n",
    "# Cancellation percentage of drivers is higher than the customers.\n",
    "\n",
    "\n",
    "\n",
    "\n",
    "#**Conclusion**:\n",
    "# This exploratory analysis helped uncover user behavior trends that can guide service optimization and better customer experience.\n",
    "                                                        "
   ]
  }
 ],
 "metadata": {
  "kernelspec": {
   "display_name": "Python 3",
   "language": "python",
   "name": "python3"
  },
  "language_info": {
   "codemirror_mode": {
    "name": "ipython",
    "version": 3
   },
   "file_extension": ".py",
   "mimetype": "text/x-python",
   "name": "python",
   "nbconvert_exporter": "python",
   "pygments_lexer": "ipython3",
   "version": "3.14.0"
  }
 },
 "nbformat": 4,
 "nbformat_minor": 5
}
